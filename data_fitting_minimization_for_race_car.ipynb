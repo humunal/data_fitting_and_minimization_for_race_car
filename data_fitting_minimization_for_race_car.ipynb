{
 "cells": [
  {
   "cell_type": "markdown",
   "id": "5d855ada",
   "metadata": {},
   "source": [
    "## Data Fitting & Minimization"
   ]
  },
  {
   "attachments": {
    "Ekran%20G%C3%B6r%C3%BCnt%C3%BCs%C3%BC%20%2838%29.png": {
     "image/png": "[encoded data removed]"
    }
   },
   "cell_type": "markdown",
   "id": "1a73dc10",
   "metadata": {},
   "source": [
    "![Ekran%20G%C3%B6r%C3%BCnt%C3%BCs%C3%BC%20%2838%29.png](attachment:Ekran%20G%C3%B6r%C3%BCnt%C3%BCs%C3%BC%20%2838%29.png)\n",
    "First we imported our data. "
   ]
  },
  {
   "cell_type": "code",
   "execution_count": 2,
   "id": "ad86dd5d",
   "metadata": {},
   "outputs": [],
   "source": [
    "import pandas as pd\n",
    "import numpy as np\n",
    "import matplotlib.pyplot as plt"
   ]
  },
  {
   "cell_type": "code",
   "execution_count": 5,
   "id": "dba6af01",
   "metadata": {
    "scrolled": true
   },
   "outputs": [
    {
     "data": {
      "text/html": [
       "<div>\n",
       "<style scoped>\n",
       "    .dataframe tbody tr th:only-of-type {\n",
       "        vertical-align: middle;\n",
       "    }\n",
       "\n",
       "    .dataframe tbody tr th {\n",
       "        vertical-align: top;\n",
       "    }\n",
       "\n",
       "    .dataframe thead th {\n",
       "        text-align: right;\n",
       "    }\n",
       "</style>\n",
       "<table border=\"1\" class=\"dataframe\">\n",
       "  <thead>\n",
       "    <tr style=\"text-align: right;\">\n",
       "      <th></th>\n",
       "      <th>x</th>\n",
       "      <th>y</th>\n",
       "    </tr>\n",
       "    <tr>\n",
       "      <th>i</th>\n",
       "      <th></th>\n",
       "      <th></th>\n",
       "    </tr>\n",
       "  </thead>\n",
       "  <tbody>\n",
       "    <tr>\n",
       "      <th>1</th>\n",
       "      <td>10</td>\n",
       "      <td>25</td>\n",
       "    </tr>\n",
       "    <tr>\n",
       "      <th>2</th>\n",
       "      <td>20</td>\n",
       "      <td>70</td>\n",
       "    </tr>\n",
       "    <tr>\n",
       "      <th>3</th>\n",
       "      <td>30</td>\n",
       "      <td>380</td>\n",
       "    </tr>\n",
       "    <tr>\n",
       "      <th>4</th>\n",
       "      <td>40</td>\n",
       "      <td>550</td>\n",
       "    </tr>\n",
       "    <tr>\n",
       "      <th>5</th>\n",
       "      <td>50</td>\n",
       "      <td>610</td>\n",
       "    </tr>\n",
       "    <tr>\n",
       "      <th>6</th>\n",
       "      <td>60</td>\n",
       "      <td>1220</td>\n",
       "    </tr>\n",
       "    <tr>\n",
       "      <th>7</th>\n",
       "      <td>70</td>\n",
       "      <td>830</td>\n",
       "    </tr>\n",
       "    <tr>\n",
       "      <th>8</th>\n",
       "      <td>80</td>\n",
       "      <td>1450</td>\n",
       "    </tr>\n",
       "  </tbody>\n",
       "</table>\n",
       "</div>"
      ],
      "text/plain": [
       "    x     y\n",
       "i          \n",
       "1  10    25\n",
       "2  20    70\n",
       "3  30   380\n",
       "4  40   550\n",
       "5  50   610\n",
       "6  60  1220\n",
       "7  70   830\n",
       "8  80  1450"
      ]
     },
     "execution_count": 5,
     "metadata": {},
     "output_type": "execute_result"
    }
   ],
   "source": [
    "data = pd.DataFrame({'i':np.arange(1,9),'x':np.arange(10,90,10),\n",
    "                      'y':[25,70,380,550,610,1220,830,1450]})\n",
    "data.set_index('i', inplace=True)\n",
    "data"
   ]
  },
  {
   "cell_type": "markdown",
   "id": "fe8f08be",
   "metadata": {},
   "source": [
    "Let's graph our data"
   ]
  },
  {
   "cell_type": "code",
   "execution_count": 3,
   "id": "d1cc9285",
   "metadata": {},
   "outputs": [
    {
     "data": {
      "image/png": "[encoded data removed]",
      "text/plain": [
       "<Figure size 432x288 with 1 Axes>"
      ]
     },
     "metadata": {
      "needs_background": "light"
     },
     "output_type": "display_data"
    }
   ],
   "source": [
    "plt.plot(data.x,data.y,\"ob\")\n",
    "plt.show()"
   ]
  },
  {
   "cell_type": "markdown",
   "id": "9f086254",
   "metadata": {},
   "source": [
    "## Least-squares fitting:\n",
    "A nonlinear function of the form $y = \\alpha_2 x^{\\beta_2}$\n",
    "\n",
    "\n",
    "we can convert it to a linear function $\\log{y}=\\log{\\alpha} + \\beta\\log{x}$\n",
    "\n",
    "\n",
    "and as the least square fit for a linear model given as $y' = a_0 + a_1 x'$ is:\n",
    "\n",
    "$$a_1 = \\frac{n\\sum{x_i' y_i'} - \\sum{x_i'}\\sum{y_i'}}{n\\sum{x_i'^2}-\\left(\\sum{x_i'}\\right)^2}$$\n",
    "\n",
    "\n",
    "$$a_0 = \\bar{y}' - a_1\\bar{x}'$$\n",
    "\n",
    "and since $x_i' = \\log{x_i},\\;y_i' = \\log{y_i}$:\n"
   ]
  },
  {
   "cell_type": "code",
   "execution_count": 4,
   "id": "e496bb62",
   "metadata": {},
   "outputs": [
    {
     "name": "stdout",
     "output_type": "stream",
     "text": [
      "a0: -1.2941260499535536 \n",
      "a1: 1.9841762557640112\n"
     ]
    }
   ],
   "source": [
    "n = data.shape[0]\n",
    "xp = np.log(data.x)\n",
    "yp = np.log(data.y)\n",
    "\n",
    "a1 = (n*np.sum(xp*yp)-np.sum(xp)*np.sum(yp)) / (n*np.sum(xp**2) - np.sum(xp)**2)\n",
    "a0 = np.mean(yp) - a1*np.mean(xp)\n",
    "\n",
    "print(\"a0:\",a0, \"\\na1:\",a1)"
   ]
  },
  {
   "cell_type": "markdown",
   "id": "d9fd54dc",
   "metadata": {},
   "source": [
    "as $a_0 = \\log{\\alpha}\\rightarrow \\alpha = e^{a_0}$ and $a_1 x' = \\beta\\log{x}\\rightarrow  \\beta = a_1$"
   ]
  },
  {
   "cell_type": "code",
   "execution_count": 5,
   "id": "d38ccacd",
   "metadata": {},
   "outputs": [
    {
     "name": "stdout",
     "output_type": "stream",
     "text": [
      "alpha: 0.2741373420132226 \n",
      "beta: 1.9841762557640112\n"
     ]
    }
   ],
   "source": [
    "alpha = np.exp(a0)\n",
    "beta = a1\n",
    "print(\"alpha:\",alpha,\"\\nbeta:\",beta)"
   ]
  },
  {
   "cell_type": "code",
   "execution_count": 6,
   "id": "a39aff90",
   "metadata": {},
   "outputs": [],
   "source": [
    "def fun(alpha, beta, x):\n",
    "    return alpha*x**beta"
   ]
  },
  {
   "cell_type": "code",
   "execution_count": 7,
   "id": "c432a08d",
   "metadata": {},
   "outputs": [
    {
     "data": {
      "image/png": "[encoded data removed]",
      "text/plain": [
       "<Figure size 432x288 with 1 Axes>"
      ]
     },
     "metadata": {
      "needs_background": "light"
     },
     "output_type": "display_data"
    }
   ],
   "source": [
    "xx = np.linspace(0,80,100);\n",
    "yy = fun(alpha,beta,xx)\n",
    "plt.plot(data.x,data.y,\"ob\",xx,yy,\"-k\")\n",
    "plt.show()"
   ]
  },
  {
   "cell_type": "markdown",
   "id": "b4aea7d3",
   "metadata": {},
   "source": [
    "## Built-in minimization function:"
   ]
  },
  {
   "cell_type": "code",
   "execution_count": 8,
   "id": "ee317c94",
   "metadata": {},
   "outputs": [
    {
     "name": "stdout",
     "output_type": "stream",
     "text": [
      "      fun: 222604.84843969392\n",
      " hess_inv: array([[1.55651470e-09, 3.20791516e-09],\n",
      "       [3.20791516e-09, 9.26210082e-09]])\n",
      "      jac: array([0.00390625, 0.05078125])\n",
      "  message: 'Desired error not necessarily achieved due to precision loss.'\n",
      "     nfev: 129\n",
      "      nit: 34\n",
      "     njev: 43\n",
      "   status: 2\n",
      "  success: False\n",
      "        x: array([2.53844123, 1.4358492 ])\n"
     ]
    }
   ],
   "source": [
    "def fun(alpha, beta, x):\n",
    "    return alpha*x**beta\n",
    "\n",
    "x = data.x\n",
    "y = data.y\n",
    "def error(params):\n",
    "    e = y - fun(params[0],params[1],x)\n",
    "    return np.sum(e**2)\n",
    "\n",
    "from scipy.optimize import minimize\n",
    "\n",
    "res = minimize(error,[0.274,1.98])\n",
    "print(res)\n",
    "alpha2,beta2 = res.x"
   ]
  },
  {
   "cell_type": "code",
   "execution_count": 9,
   "id": "748d11b9",
   "metadata": {},
   "outputs": [
    {
     "data": {
      "image/png": "[encoded data removed]",
      "text/plain": [
       "<Figure size 432x288 with 1 Axes>"
      ]
     },
     "metadata": {
      "needs_background": "light"
     },
     "output_type": "display_data"
    }
   ],
   "source": [
    "xx = np.linspace(0,80,100);\n",
    "yy2 = fun(alpha2,beta2,xx)\n",
    "plt.plot(data.x,data.y,\"ob\",xx,yy2,\"-k\")\n",
    "plt.show()"
   ]
  },
  {
   "cell_type": "markdown",
   "id": "b45c9b43",
   "metadata": {},
   "source": [
    "### Let's compare the two methods"
   ]
  },
  {
   "cell_type": "code",
   "execution_count": 10,
   "id": "8261f13d",
   "metadata": {},
   "outputs": [
    {
     "name": "stdout",
     "output_type": "stream",
     "text": [
      "Least-square sum of squares error: 345713.59440245194\n",
      "Minimizer sum of squares error: 222604.84843969392\n"
     ]
    }
   ],
   "source": [
    "err_ls = error([alpha,beta])\n",
    "err_min = error([alpha2,beta2])\n",
    "print(\"Least-square sum of squares error:\",err_ls)\n",
    "print(\"Minimizer sum of squares error:\",err_min)"
   ]
  },
  {
   "cell_type": "markdown",
   "id": "fc71c7f7",
   "metadata": {},
   "source": [
    "Let's plot the two graphs together"
   ]
  },
  {
   "cell_type": "code",
   "execution_count": 11,
   "id": "e3b4dc19",
   "metadata": {},
   "outputs": [
    {
     "data": {
      "image/png": "[encoded data removed]",
      "text/plain": [
       "<Figure size 432x288 with 1 Axes>"
      ]
     },
     "metadata": {
      "needs_background": "light"
     },
     "output_type": "display_data"
    }
   ],
   "source": [
    "xx = np.linspace(0,80,100);\n",
    "yy_ls = fun(alpha,beta,xx)\n",
    "yy_min = fun(alpha2,beta2,xx)\n",
    "\n",
    "plt.plot(data.x,data.y,\"ob\",xx,yy_ls,\"-r\",xx,yy_min,\"-k\")\n",
    "plt.legend([\"data\",\"least-squares\",\"minimizer\"])\n",
    "plt.show()"
   ]
  },
  {
   "cell_type": "markdown",
   "id": "96870b79",
   "metadata": {},
   "source": [
    "### Conclusion:\n",
    "When we compared the two graphs and the error rates, we saw that the curve we found with the minimization method gave more accurate results."
   ]
  }
 ],
 "metadata": {
  "kernelspec": {
   "display_name": "Python 3 (ipykernel)",
   "language": "python",
   "name": "python3"
  },
  "language_info": {
   "codemirror_mode": {
    "name": "ipython",
    "version": 3
   },
   "file_extension": ".py",
   "mimetype": "text/x-python",
   "name": "python",
   "nbconvert_exporter": "python",
   "pygments_lexer": "ipython3",
   "version": "3.7.7"
  }
 },
 "nbformat": 4,
 "nbformat_minor": 5
}
